{
 "cells": [
  {
   "cell_type": "code",
   "execution_count": null,
   "metadata": {},
   "outputs": [],
   "source": [
    "import cv2\n",
    "#import v4l2capture\n",
    "from sc2.interface import SwitchController\n",
    "from time import sleep\n",
    "from contextlib import contextmanager\n",
    "from matplotlib.pyplot import imshow\n",
    "from datetime import datetime"
   ]
  },
  {
   "cell_type": "markdown",
   "metadata": {},
   "source": [
    "### Match parameters"
   ]
  },
  {
   "cell_type": "code",
   "execution_count": null,
   "metadata": {},
   "outputs": [],
   "source": [
    "VIDEO_DEVICE='/dev/video0'\n",
    "CONTROLLER='/dev/ttyUSB0'\n",
    "OUTPUT_PATH='./images/'"
   ]
  },
  {
   "cell_type": "code",
   "execution_count": null,
   "metadata": {},
   "outputs": [],
   "source": [
    "match_params = {\n",
    "    'style': 'stock',\n",
    "    'stock': 3,\n",
    "    'time limit': None,\n",
    "    'fs meter': False,\n",
    "    'spirits': False,\n",
    "    'cpu level': 9,\n",
    "    'stage selection': 'omega only',\n",
    "    'items': None\n",
    "}\n",
    "time_limit = 3 # minutes\n",
    "\n",
    "# ACTUIALLY NO!!!\n",
    "# IT IS \"3:00\"\n",
    "# TIME MODE\n",
    "# YES FINAL SMASHES\n",
    "# OMEGA ONLY STAGES\n",
    "# NO ITEMS"
   ]
  },
  {
   "cell_type": "code",
   "execution_count": null,
   "metadata": {},
   "outputs": [],
   "source": [
    "# FROM PLAYER SELECT SCREEN WITH CONTROLLER 1 (human) hooked up / no controller 2\n",
    "with SwitchController(port='/dev/ttyUSB0',boc=True) as c:\n",
    "    # to connect it\n",
    "    c.button('A'); c.button('A')\n",
    "    sleep(0.25)\n",
    "    # Move to plaver / cpu\n",
    "    #c.hat('RIGHT', dur=0.65)\n",
    "    c.hat('BOTTOM', dur=0.5)\n",
    "    sleep(0.25)\n",
    "    # CHoose CPU\n",
    "    c.button('A')\n",
    "    sleep(0.25)\n",
    "    # Move to \"random\"\n",
    "    c.hat('TOP', dur=0.5)\n",
    "    sleep(0.25)\n",
    "    c.hat('LEFT', dur=0.25)\n",
    "    sleep(0.25)\n",
    "    # CHoose Random\n",
    "    c.button('A')"
   ]
  },
  {
   "cell_type": "code",
   "execution_count": null,
   "metadata": {},
   "outputs": [],
   "source": [
    "@contextmanager\n",
    "def VideoCaptureContext(*args, **kwargs):\n",
    "    cap = cv2.VideoCapture(*args, **kwargs)\n",
    "    try:\n",
    "        yield cap\n",
    "    finally:\n",
    "        cap.release()"
   ]
  },
  {
   "cell_type": "code",
   "execution_count": null,
   "metadata": {},
   "outputs": [],
   "source": [
    "def getSingleFrame():\n",
    "    # IT DOESNT FUCKING SET THE RESOLUTION\n",
    "    # V4L2 SAYS ITS SUPPORTED\n",
    "    # NEED TO RECOMPILE OPENCV AND VERIFY ALLLL THE FUCKING FLAGS ARE SET??\n",
    "    with VideoCaptureContext(0, cv2.CAP_V4L2) as cam:\n",
    "        rv, frame = cam.read()\n",
    "        rv, frame = cam.read()\n",
    "        cam.set(cv2.CAP_PROP_FOURCC,cv2.VideoWriter_fourcc('M','J','P','G'))\n",
    "        #cam.set(cv2.CAP_PROP_CONVERT_RGB, True)\n",
    "        cam.set(cv2.CAP_PROP_FRAME_HEIGHT, 1920)\n",
    "        cam.set(cv2.CAP_PROP_FRAME_WIDTH, 1080)\n",
    "        cam.set(cv2.CAP_PROP_FPS, 30)\n",
    "        #cam.set()\n",
    "        #print(cam.getBackendName())\n",
    "        #\n",
    "        #cam.open()\n",
    "        rv, frame = cam.read()\n",
    "        # IMSHOW says inverted colors but okular says no is fine\n",
    "        #frame = cv2.cvtColor(frame, cv2.COLOR_BGR2RGB)\n",
    "    return rv, frame"
   ]
  },
  {
   "cell_type": "code",
   "execution_count": null,
   "metadata": {},
   "outputs": [],
   "source": [
    "def saveSingleFrame(frame, match='NONE', state='NONE', iformat='png'):\n",
    "    filename = f'{OUTPUT_PATH}{datetime.now().isoformat()}-{match}-{state}.{iformat}'\n",
    "    cv2.imwrite(filename, frame)\n",
    "    "
   ]
  },
  {
   "cell_type": "code",
   "execution_count": null,
   "metadata": {},
   "outputs": [],
   "source": [
    "match = 1 # number\n",
    "state = 'BEFORE'\n",
    "while True:\n",
    "    # PLAYER SELECT SCREEN\n",
    "    state = 'PLAYERSELECT'\n",
    "    saveSingleFrame(getSingleFrame()[1], match, state)\n",
    "    with SwitchController(port='/dev/ttyUSB0',boc=True) as c:\n",
    "        # to connect it\n",
    "        c.button('START')\n",
    "    \n",
    "    state = 'PREMATCH'\n",
    "    sleep(1)\n",
    "    saveSingleFrame(getSingleFrame()[1], match, state)\n",
    "    sleep(1)\n",
    "    saveSingleFrame(getSingleFrame()[1], match, state)\n",
    "    sleep(1)\n",
    "    saveSingleFrame(getSingleFrame()[1], match, state)\n",
    "    \n",
    "    sleep(60 * (time_limit+1)) # minutes + 1\n",
    "    state = 'WINNER'\n",
    "    saveSingleFrame(getSingleFrame()[1], match, state)\n",
    "    \n",
    "    with SwitchController(port='/dev/ttyUSB0',boc=True) as c:\n",
    "        c.button('A')\n",
    "    sleep(1)\n",
    "    state = 'STATS-1'\n",
    "    saveSingleFrame(getSingleFrame()[1], match, state)\n",
    "    \n",
    "    with SwitchController(port='/dev/ttyUSB0',boc=True) as c:\n",
    "        c.button('A')\n",
    "    sleep(1)\n",
    "    state = 'STATS-2'\n",
    "    saveSingleFrame(getSingleFrame()[1], match, state)\n",
    "    \n",
    "    with SwitchController(port='/dev/ttyUSB0',boc=True) as c:\n",
    "        c.button('A')\n",
    "    sleep(1)\n",
    "    state = 'STATS-3'\n",
    "    saveSingleFrame(getSingleFrame()[1], match, state)\n",
    "    \n",
    "    # This SHOULD take it back to playerselect.\n",
    "    with SwitchController(port='/dev/ttyUSB0',boc=True) as c:\n",
    "        c.button('A')\n",
    "    sleep(20)\n",
    "    \n",
    "    match = match + 1"
   ]
  },
  {
   "cell_type": "code",
   "execution_count": null,
   "metadata": {},
   "outputs": [],
   "source": [
    "saveSingleFrame(getSingleFrame()[1])"
   ]
  },
  {
   "cell_type": "code",
   "execution_count": null,
   "metadata": {},
   "outputs": [],
   "source": [
    "imshow(frame)"
   ]
  },
  {
   "cell_type": "code",
   "execution_count": null,
   "metadata": {},
   "outputs": [],
   "source": [
    "[cv2.videoio_registry.getBackendName(k) for k in cv2.videoio_registry.getBackends()]"
   ]
  },
  {
   "cell_type": "code",
   "execution_count": null,
   "metadata": {},
   "outputs": [],
   "source": [
    "cam.getBackendName()"
   ]
  },
  {
   "cell_type": "code",
   "execution_count": null,
   "metadata": {},
   "outputs": [],
   "source": []
  },
  {
   "cell_type": "code",
   "execution_count": null,
   "metadata": {},
   "outputs": [],
   "source": [
    "d = datetime.now().isoformat()"
   ]
  },
  {
   "cell_type": "code",
   "execution_count": null,
   "metadata": {},
   "outputs": [],
   "source": []
  },
  {
   "cell_type": "code",
   "execution_count": null,
   "metadata": {},
   "outputs": [],
   "source": []
  }
 ],
 "metadata": {
  "kernelspec": {
   "display_name": "Python 3",
   "language": "python",
   "name": "python3"
  },
  "language_info": {
   "codemirror_mode": {
    "name": "ipython",
    "version": 3
   },
   "file_extension": ".py",
   "mimetype": "text/x-python",
   "name": "python",
   "nbconvert_exporter": "python",
   "pygments_lexer": "ipython3",
   "version": "3.7.2"
  }
 },
 "nbformat": 4,
 "nbformat_minor": 2
}
