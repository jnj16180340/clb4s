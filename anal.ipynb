{
 "cells": [
  {
   "cell_type": "code",
   "execution_count": 4,
   "metadata": {
    "scrolled": true
   },
   "outputs": [],
   "source": [
    "from pathlib import Path\n",
    "import json\n",
    "from more_itertools import with_iter\n",
    "import pandas as pd\n",
    "import numpy as np\n",
    "from functools import partial\n",
    "import cv2\n",
    "import pytesseract\n",
    "import matplotlib.pyplot as plt\n",
    "import re\n",
    "import difflib"
   ]
  },
  {
   "cell_type": "code",
   "execution_count": 5,
   "metadata": {},
   "outputs": [],
   "source": [
    "with open('fighters.json','r') as fh:\n",
    "    list_of_fighters = lof = list(map(str.upper, json.load(fh)))"
   ]
  },
  {
   "cell_type": "code",
   "execution_count": 6,
   "metadata": {},
   "outputs": [],
   "source": [
    "annotations_path = Path('data/annotations')\n",
    "afields = []"
   ]
  },
  {
   "cell_type": "code",
   "execution_count": 7,
   "metadata": {},
   "outputs": [],
   "source": [
    "s1ar = []\n",
    "for p in annotations_path.glob('*STATS-1.json'):\n",
    "    with open(p) as po:\n",
    "        pot = json.load(po)\n",
    "        s1ar.append(pot)\n",
    "s1ar = [[{k:v for k,v in s.items() if k in {'points','label'}} for s in a['shapes']] for a in s1ar]"
   ]
  },
  {
   "cell_type": "code",
   "execution_count": 8,
   "metadata": {},
   "outputs": [],
   "source": [
    "s = []\n",
    "for l in s1ar:\n",
    "    for k in l:\n",
    "        s.append(k)\n",
    "s = pd.DataFrame(s)"
   ]
  },
  {
   "cell_type": "code",
   "execution_count": 9,
   "metadata": {},
   "outputs": [
    {
     "data": {
      "text/plain": [
       "(348, 330, 204, 74)"
      ]
     },
     "execution_count": 9,
     "metadata": {},
     "output_type": "execute_result"
    }
   ],
   "source": [
    "x = (s[s['label']=='1 right name'])['points'].map(lambda l: cv2.boundingRect(np.array(l)))\n",
    "x,y, dx, dy = list(map(int,np.mean(np.array(list(x.map(list)),dtype='int'), axis=0)))\n",
    "x, y, dx, dy"
   ]
  },
  {
   "cell_type": "code",
   "execution_count": 18,
   "metadata": {},
   "outputs": [],
   "source": [
    "image_set = Path('images').glob('*-STATS-1.png')"
   ]
  },
  {
   "cell_type": "markdown",
   "metadata": {},
   "source": [
    "0 = Orientation and script detection (OSD) only.\n",
    "1 = Automatic page segmentation with OSD.\n",
    "2 = Automatic page segmentation, but no OSD, or OCR. (not implemented)\n",
    "3 = Fully automatic page segmentation, but no OSD. (Default)\n",
    "4 = Assume a single column of text of variable sizes.\n",
    "5 = Assume a single uniform block of vertically aligned text.\n",
    "6 = Assume a single uniform block of text.\n",
    "7 = Treat the image as a single text line.\n",
    "8 = Treat the image as a single word.\n",
    "9 = Treat the image as a single word in a circle.\n",
    "10 = Treat the image as a single character.\n",
    "11 = Sparse text. Find as much text as possible in no particular order.\n",
    "12 = Sparse text with OSD.\n",
    "13 = Raw line. Treat the image as a single text line,\n",
    "     bypassing hacks that are Tesseract-specifi\n",
    "     \n",
    "4 seems best for now...\n",
    "Struct elem (2,3)"
   ]
  },
  {
   "cell_type": "code",
   "execution_count": 61,
   "metadata": {},
   "outputs": [],
   "source": [
    "def printable(s):\n",
    "    ts = re.sub(r'[^\\w\\s]','',s, re.UNICODE)\n",
    "    return re.sub(r'_','',ts).strip()"
   ]
  },
  {
   "cell_type": "code",
   "execution_count": 95,
   "metadata": {},
   "outputs": [],
   "source": [
    "def process_image(roi):\n",
    "    #roi = cv2.GaussianBlur(roi,(3,3),0)\n",
    "    rv, i = cv2.threshold(roi, 180, 255, cv2.THRESH_BINARY_INV)\n",
    "    #i = cv2.GaussianBlur(roi,(3,3),0)\n",
    "    # Doesn't work as well\n",
    "    #roi=cv2.cvtColor(roi, cv2.COLOR_RGB2GRAY)\n",
    "    #i = cv2.adaptiveThreshold(roi,255,cv2.ADAPTIVE_THRESH_GAUSSIAN_C, cv2.THRESH_BINARY_INV,55,0)\n",
    "    kernel = cv2.getStructuringElement(cv2.MORPH_CROSS,(2,3))\n",
    "    erosion = cv2.dilate(i,kernel,iterations = 1)\n",
    "    return erosion\n",
    "\n",
    "def ocr_image(erosion):\n",
    "    #config = (r'--psm 4',  r'--oem 1', r'--user-patterns \"/home/nate/Projects/clb4s/fightingwords.user-patterns\"', r'--lang \"eng\"', r'--tessdata-dir \"/home/nate/Projects/clb4s/tessdata/\"', r'\"bazaar\"')\n",
    "    #config = r'blah blah bl;ah --psm 5 --oem 1 --tessdata-dir \"/usr/share/tesseract-ocr/4.00/tessdata\" -c user-patterns=\"/home/nate/Projects/clb4s/fightingworrrds.user-patterns\" \"bazaar\"'\n",
    "    config = r'--psm 4 --oem 1 --user-patterns \"/home/nate/Projects/clb4s/fightingwords.user-patterns\"'\n",
    "    tff = pytesseract.image_to_string(erosion, config=config)\n",
    "    return tff\n",
    "\n",
    "def extract_roi(image,x,y,dx,dy, m=(10,10)):\n",
    "    # m is (y,x)\n",
    "    roi = image[y+m[0]:y+dy-m[0],x+m[1]:x+dx-m[1]]\n",
    "    return roi\n"
   ]
  },
  {
   "cell_type": "code",
   "execution_count": 101,
   "metadata": {},
   "outputs": [],
   "source": [
    "atf = set()\n",
    "bail_after = 69\n",
    "k = 0\n",
    "for ip in image_set:\n",
    "    if k > bail_after:\n",
    "        break\n",
    "    k += 1\n",
    "    image = cv2.imread(str(ip))\n",
    "\n",
    "    roi = extract_roi(image,x,y,dx,dy,(10,10))\n",
    "    roi = process_image(roi)\n",
    "    tff = ocr_image(roi)\n",
    "\n",
    "    atf.add(tff)"
   ]
  },
  {
   "cell_type": "code",
   "execution_count": 102,
   "metadata": {},
   "outputs": [
    {
     "data": {
      "text/plain": [
       "[('OUNG LINK', ['YOUNG LINK']),\n",
       " ('CHROM', ['CHROM']),\n",
       " ('ER SUIT MUS', ['ZERO SUIT SAMUS']),\n",
       " ('LUCINA', ['LUCINA']),\n",
       " ('IKE', ['IKE']),\n",
       " ('SANONDORF', ['GANONDORF']),\n",
       " ('EEE YUCK HUNT', ['DUCK HUNT']),\n",
       " ('EE PIKACHU', ['PIKACHU']),\n",
       " ('FON LINK', ['TOON LINK']),\n",
       " ('ROB', ['ROB']),\n",
       " ('SHEIK', ['SHEIK']),\n",
       " ('FOX', ['FOX']),\n",
       " ('IUI FIT A INER', ['WII FIT TRAINER']),\n",
       " ('LINK', ['LINK']),\n",
       " ('EE YUCK HUNT', ['DUCK HUNT']),\n",
       " ('ZELDA', ['ZELDA']),\n",
       " ('RYU', ['RYU']),\n",
       " ('MEWTWO', ['MEWTWO']),\n",
       " ('EACH', ['PEACH']),\n",
       " ('CLOUD', ['CLOUD']),\n",
       " ('DAISY', ['DAISY']),\n",
       " ('YARK SAMUS', ['DARK SAMUS']),\n",
       " ('LUCAS', ['LUCAS']),\n",
       " ('CE CLIMBERS', ['ICE CLIMBERS']),\n",
       " ('SRENINJA', ['GRENINJA']),\n",
       " ('CORRIN', ['CORRIN']),\n",
       " ('FALCO', ['FALCO']),\n",
       " ('OO SANONDORF', ['GANONDORF']),\n",
       " ('APTATNL ALCON', ['CAPTAIN FALCON']),\n",
       " ('MEGA MAN', ['MEGA MAN']),\n",
       " ('OSALINA LUMA', ['ROSALINA & LUMA']),\n",
       " ('LUIGI', ['LUIGI']),\n",
       " ('SIMON', ['SIMON']),\n",
       " ('LUDWIG', ['LUDVIG']),\n",
       " ('ROBIN', ['ROBIN']),\n",
       " ('PACMAN', ['PAC-MAN']),\n",
       " ('LINK', ['LINK']),\n",
       " ('EE IGGLYPUFF', ['JIGGLYPUFF']),\n",
       " ('YO RANHA  ANT', ['PIRANHA PLANT']),\n",
       " ('LUIGI', ['LUIGI']),\n",
       " ('DR MARIO', ['DR. MARIO']),\n",
       " ('OKEMON EA INER', ['POKEMON TRAINER']),\n",
       " ('SRENINJA', ['GRENINJA']),\n",
       " ('YUCK HUNT', ['DUCK HUNT']),\n",
       " ('YETA KNIGHT', ['META KNIGHT']),\n",
       " ('ING K 2O0B', ['KING K. ROOL']),\n",
       " ('YOSHI', ['YOSHI']),\n",
       " ('RIDLEY', ['RIDLEY']),\n",
       " ('SHULK', ['SHULK']),\n",
       " ('DARK PIT', ['DARK PIT'])]"
      ]
     },
     "execution_count": 102,
     "metadata": {},
     "output_type": "execute_result"
    }
   ],
   "source": [
    "# NORMAL\n",
    "atf = list(map(lambda s: s.replace('\\n',' ').upper(), atf))\n",
    "atf = list(map(printable, atf))\n",
    "list(map(lambda s: (s,difflib.get_close_matches(s, lof, n=1, cutoff=0.6)), atf))"
   ]
  },
  {
   "cell_type": "code",
   "execution_count": null,
   "metadata": {},
   "outputs": [],
   "source": []
  }
 ],
 "metadata": {
  "kernelspec": {
   "display_name": "Python 3",
   "language": "python",
   "name": "python3"
  },
  "language_info": {
   "codemirror_mode": {
    "name": "ipython",
    "version": 3
   },
   "file_extension": ".py",
   "mimetype": "text/x-python",
   "name": "python",
   "nbconvert_exporter": "python",
   "pygments_lexer": "ipython3",
   "version": "3.7.2"
  }
 },
 "nbformat": 4,
 "nbformat_minor": 2
}
