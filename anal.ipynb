{
 "cells": [
  {
   "cell_type": "code",
   "execution_count": 4,
   "metadata": {
    "scrolled": true
   },
   "outputs": [],
   "source": [
    "from pathlib import Path\n",
    "import json\n",
    "from more_itertools import with_iter\n",
    "import pandas as pd\n",
    "import numpy as np\n",
    "from functools import partial\n",
    "import cv2\n",
    "import pytesseract\n",
    "import matplotlib.pyplot as plt\n",
    "import re\n",
    "import difflib"
   ]
  },
  {
   "cell_type": "code",
   "execution_count": 5,
   "metadata": {},
   "outputs": [],
   "source": [
    "with open('fighters.json','r') as fh:\n",
    "    list_of_fighters = lof = list(map(str.upper, json.load(fh)))"
   ]
  },
  {
   "cell_type": "code",
   "execution_count": 6,
   "metadata": {},
   "outputs": [],
   "source": [
    "annotations_path = Path('data/annotations')\n",
    "afields = []"
   ]
  },
  {
   "cell_type": "code",
   "execution_count": 7,
   "metadata": {},
   "outputs": [],
   "source": [
    "s1ar = []\n",
    "for p in annotations_path.glob('*STATS-1.json'):\n",
    "    with open(p) as po:\n",
    "        pot = json.load(po)\n",
    "        s1ar.append(pot)\n",
    "s1ar = [[{k:v for k,v in s.items() if k in {'points','label'}} for s in a['shapes']] for a in s1ar]"
   ]
  },
  {
   "cell_type": "code",
   "execution_count": 8,
   "metadata": {},
   "outputs": [],
   "source": [
    "s = []\n",
    "for l in s1ar:\n",
    "    for k in l:\n",
    "        s.append(k)\n",
    "s = pd.DataFrame(s)"
   ]
  },
  {
   "cell_type": "code",
   "execution_count": 9,
   "metadata": {},
   "outputs": [
    {
     "data": {
      "text/plain": [
       "(348, 330, 204, 74)"
      ]
     },
     "execution_count": 9,
     "metadata": {},
     "output_type": "execute_result"
    }
   ],
   "source": [
    "x = (s[s['label']=='1 right name'])['points'].map(lambda l: cv2.boundingRect(np.array(l)))\n",
    "x,y, dx, dy = list(map(int,np.mean(np.array(list(x.map(list)),dtype='int'), axis=0)))\n",
    "x, y, dx, dy"
   ]
  },
  {
   "cell_type": "code",
   "execution_count": 18,
   "metadata": {},
   "outputs": [],
   "source": [
    "image_set = Path('images').glob('*-STATS-1.png')"
   ]
  },
  {
   "cell_type": "markdown",
   "metadata": {},
   "source": [
    "0 = Orientation and script detection (OSD) only.\n",
    "1 = Automatic page segmentation with OSD.\n",
    "2 = Automatic page segmentation, but no OSD, or OCR. (not implemented)\n",
    "3 = Fully automatic page segmentation, but no OSD. (Default)\n",
    "4 = Assume a single column of text of variable sizes.\n",
    "5 = Assume a single uniform block of vertically aligned text.\n",
    "6 = Assume a single uniform block of text.\n",
    "7 = Treat the image as a single text line.\n",
    "8 = Treat the image as a single word.\n",
    "9 = Treat the image as a single word in a circle.\n",
    "10 = Treat the image as a single character.\n",
    "11 = Sparse text. Find as much text as possible in no particular order.\n",
    "12 = Sparse text with OSD.\n",
    "13 = Raw line. Treat the image as a single text line,\n",
    "     bypassing hacks that are Tesseract-specifi\n",
    "     \n",
    "4 seems best for now...\n",
    "Struct elem (2,3)"
   ]
  },
  {
   "cell_type": "code",
   "execution_count": 61,
   "metadata": {},
   "outputs": [],
   "source": [
    "def printable(s):\n",
    "    ts = re.sub(r'[^\\w\\s]','',s, re.UNICODE)\n",
    "    return re.sub(r'_','',ts).strip()"
   ]
  },
  {
   "cell_type": "code",
   "execution_count": 106,
   "metadata": {},
   "outputs": [],
   "source": [
    "def process_image(roi):\n",
    "    #roi = cv2.GaussianBlur(roi,(3,3),0)\n",
    "    rv, i = cv2.threshold(roi, 180, 255, cv2.THRESH_BINARY_INV)\n",
    "    #i = cv2.GaussianBlur(roi,(3,3),0)\n",
    "    # Doesn't work as well\n",
    "    #roi=cv2.cvtColor(roi, cv2.COLOR_RGB2GRAY)\n",
    "    #i = cv2.adaptiveThreshold(roi,255,cv2.ADAPTIVE_THRESH_GAUSSIAN_C, cv2.THRESH_BINARY_INV,55,0)\n",
    "    kernel = cv2.getStructuringElement(cv2.MORPH_CROSS,(2,3))\n",
    "    erosion = cv2.dilate(i,kernel,iterations = 1)\n",
    "    return erosion\n",
    "\n",
    "def ocr_image(erosion):\n",
    "    #config = (r'--psm 4',  r'--oem 1', r'--user-patterns \"/home/nate/Projects/clb4s/fightingwords.user-patterns\"', r'--lang \"eng\"', r'--tessdata-dir \"/home/nate/Projects/clb4s/tessdata/\"', r'\"bazaar\"')\n",
    "    #config = r'blah blah bl;ah --psm 5 --oem 1 --tessdata-dir \"/usr/share/tesseract-ocr/4.00/tessdata\" -c user-patterns=\"/home/nate/Projects/clb4s/fightingworrrds.user-patterns\" \"bazaar\"'\n",
    "    config = r'--psm 4 --oem 1 --user-patterns \"/home/nate/Projects/clb4s/fightingwords.user-patterns\"'\n",
    "    tff = pytesseract.image_to_string(erosion, config=config)\n",
    "    return tff\n",
    "\n",
    "def extract_roi(image,x,y,dx,dy, m=(10,10)):\n",
    "    # m is (y,x)\n",
    "    roi = image[y+m[0]:y+dy-m[0],x+m[1]:x+dx-m[1]]\n",
    "    return roi\n",
    "\n",
    "def process_text(s):\n",
    "    s = s.replace('\\n',' ').upper()\n",
    "    s = printable(s)\n",
    "    candidates = difflib.get_close_matches(s, lof, n=1, cutoff=0.6)\n",
    "    return candidates[0] if len(candidates)>0 else None"
   ]
  },
  {
   "cell_type": "code",
   "execution_count": 116,
   "metadata": {},
   "outputs": [],
   "source": [
    "atf = list()\n",
    "bail_after = 69\n",
    "k = 0\n",
    "for ip in image_set:\n",
    "    if k > bail_after:\n",
    "        break\n",
    "    k += 1\n",
    "    image = cv2.imread(str(ip))\n",
    "\n",
    "    roi = extract_roi(image,x,y,dx,dy,(10,10))\n",
    "    roi = process_image(roi)\n",
    "    tff = ocr_image(roi)\n",
    "    fighter = process_text(tff)\n",
    "    if fighter:\n",
    "        atf.append(fighter)"
   ]
  },
  {
   "cell_type": "code",
   "execution_count": 119,
   "metadata": {},
   "outputs": [
    {
     "data": {
      "text/plain": [
       "47"
      ]
     },
     "execution_count": 119,
     "metadata": {},
     "output_type": "execute_result"
    }
   ],
   "source": [
    "# NORMAL\n",
    "#atf = list(map(lambda s: s.replace('\\n',' ').upper(), atf))\n",
    "#atf = list(map(printable, atf))\n",
    "#list(map(lambda s: (s,difflib.get_close_matches(s, lof, n=1, cutoff=0.6)), atf))\n",
    "len(list(set(atf)))"
   ]
  },
  {
   "cell_type": "code",
   "execution_count": 118,
   "metadata": {},
   "outputs": [
    {
     "data": {
      "text/plain": [
       "['NESS',\n",
       " 'LUCAS',\n",
       " 'YOUNG LINK',\n",
       " 'PIKACHU',\n",
       " 'LITTLE MAC',\n",
       " 'RYU',\n",
       " 'INCINEROAR',\n",
       " 'DR. MARIO',\n",
       " 'DIDDY KONG',\n",
       " 'WII FIT TRAINER',\n",
       " 'PIKACHU',\n",
       " 'GANONDORF',\n",
       " 'MEGA MAN',\n",
       " 'CAPTAIN FALCON',\n",
       " 'NESS',\n",
       " 'LUCAS',\n",
       " 'GANONDORF',\n",
       " 'WARIO',\n",
       " 'LINK',\n",
       " 'ISABELLE',\n",
       " 'PIT',\n",
       " 'DARK SAMUS',\n",
       " 'DARK SAMUS',\n",
       " 'DUCK HUNT',\n",
       " 'LINK',\n",
       " 'PAC-MAN',\n",
       " 'LUCAS',\n",
       " 'META KNIGHT',\n",
       " 'ROSALINA & LUMA',\n",
       " 'SNAKE',\n",
       " 'CHROM',\n",
       " 'RICHTER',\n",
       " 'LUCARIO',\n",
       " 'SIMON',\n",
       " 'PIKACHU',\n",
       " 'DIDDY KONG',\n",
       " 'LINK',\n",
       " 'SHEIK',\n",
       " 'SNAKE',\n",
       " 'LINK',\n",
       " 'TOON LINK',\n",
       " 'CLOUD',\n",
       " 'LUCARIO',\n",
       " 'PEACH',\n",
       " 'YOSHI',\n",
       " 'ZERO SUIT SAMUS',\n",
       " 'LUCARIO',\n",
       " 'MARIO',\n",
       " 'DARK PIT',\n",
       " 'BOWSER JR.',\n",
       " 'PALUTENA',\n",
       " 'SAMUS',\n",
       " 'LUCINA',\n",
       " 'FOX',\n",
       " 'DONKEY KONG',\n",
       " 'MEGA MAN',\n",
       " 'ZELDA',\n",
       " 'CORRIN',\n",
       " 'YOUNG LINK',\n",
       " 'CHROM',\n",
       " 'KING K. ROOL',\n",
       " 'JIGGLYPUFF',\n",
       " 'ZELDA',\n",
       " 'WARIO',\n",
       " 'LUCAS',\n",
       " 'ROY',\n",
       " 'RYU',\n",
       " 'DARK PIT',\n",
       " 'VILLAGER',\n",
       " 'JIGGLYPUFF']"
      ]
     },
     "execution_count": 118,
     "metadata": {},
     "output_type": "execute_result"
    }
   ],
   "source": [
    "atf"
   ]
  },
  {
   "cell_type": "code",
   "execution_count": 120,
   "metadata": {},
   "outputs": [
    {
     "data": {
      "text/plain": [
       "[]"
      ]
     },
     "execution_count": 120,
     "metadata": {},
     "output_type": "execute_result"
    }
   ],
   "source": [
    "afields"
   ]
  },
  {
   "cell_type": "code",
   "execution_count": 121,
   "metadata": {},
   "outputs": [
    {
     "data": {
      "text/plain": [
       "[[{'label': '1 left place',\n",
       "   'points': [[216, 2], [212, 110], [296, 110], [297, 0]]},\n",
       "  {'label': '1 left name',\n",
       "   'points': [[87, 356], [85, 406], [289, 380], [288, 331]]},\n",
       "  {'label': '1 right place',\n",
       "   'points': [[451, 0], [450, 127], [552, 124], [554, 0]]},\n",
       "  {'label': '1 right name',\n",
       "   'points': [[347, 355], [349, 402], [550, 379], [553, 329]]}],\n",
       " [{'label': '1 left place',\n",
       "   'points': [[197, 3], [199, 108], [294, 109], [294, 0]]},\n",
       "  {'label': '1 left name',\n",
       "   'points': [[84, 356], [85, 404], [289, 376], [289, 329]]},\n",
       "  {'label': '1 right place',\n",
       "   'points': [[476, 3], [477, 118], [567, 109], [564, 0]]},\n",
       "  {'label': '1 right name',\n",
       "   'points': [[348, 356], [350, 405], [552, 374], [550, 329]]}],\n",
       " [{'label': '1 left place',\n",
       "   'points': [[214, 1], [214, 119], [298, 117], [296, 0]]},\n",
       "  {'label': '1 left name',\n",
       "   'points': [[87, 358], [87, 404], [287, 376], [288, 330]]},\n",
       "  {'label': '1 right place',\n",
       "   'points': [[463, 1], [459, 120], [559, 120], [559, 0]]},\n",
       "  {'label': '1 right name',\n",
       "   'points': [[348, 357], [351, 405], [555, 375], [552, 329]]}],\n",
       " [{'label': '1 left place',\n",
       "   'points': [[198, 0], [196, 123], [293, 124], [295, 1]]},\n",
       "  {'label': '1 left name',\n",
       "   'points': [[88, 355], [85, 405], [287, 377], [289, 329]]},\n",
       "  {'label': '1 right place',\n",
       "   'points': [[476, 0], [472, 113], [572, 109], [568, 0]]},\n",
       "  {'label': '1 right name',\n",
       "   'points': [[349, 357], [350, 405], [552, 377], [552, 331]]}],\n",
       " [{'label': '1 left place',\n",
       "   'points': [[205, 0], [204, 114], [290, 114], [290, 0]]},\n",
       "  {'label': '1 left name',\n",
       "   'points': [[86, 356], [88, 407], [287, 377], [288, 332]]},\n",
       "  {'label': '1 right place',\n",
       "   'points': [[479, 0], [478, 118], [555, 113], [558, 0]]},\n",
       "  {'label': '1 right name',\n",
       "   'points': [[350, 356], [352, 404], [552, 374], [552, 330]]}],\n",
       " [{'label': '1 left place',\n",
       "   'points': [[214, 3], [214, 114], [296, 110], [294, 0]]},\n",
       "  {'label': '1 left name',\n",
       "   'points': [[85, 356], [87, 404], [287, 377], [288, 332]]},\n",
       "  {'label': '1 right place',\n",
       "   'points': [[460, 2], [459, 113], [559, 112], [558, 0], [458, 0]]},\n",
       "  {'label': '1 right name',\n",
       "   'points': [[348, 358], [351, 403], [552, 374], [552, 331]]}],\n",
       " [{'label': '1 left place',\n",
       "   'points': [[195, 0], [199, 112], [290, 114], [289, 0]]},\n",
       "  {'label': '1 right place',\n",
       "   'points': [[465, 6], [465, 111], [563, 107], [564, 1]]},\n",
       "  {'label': '1 left name',\n",
       "   'points': [[86, 356], [88, 405], [287, 377], [289, 333]]},\n",
       "  {'label': '1 right name',\n",
       "   'points': [[350, 355], [351, 404], [552, 376], [551, 331]]}],\n",
       " [{'label': '1 left place',\n",
       "   'points': [[200, 1], [202, 122], [292, 119], [292, 0]]},\n",
       "  {'label': '1 left name',\n",
       "   'points': [[87, 357], [87, 405], [288, 378], [288, 331]]},\n",
       "  {'label': '1 right place',\n",
       "   'points': [[475, 0], [471, 111], [556, 106], [554, 0]]},\n",
       "  {'label': '1 right name',\n",
       "   'points': [[349, 354], [350, 403], [547, 380], [551, 331]]}]]"
      ]
     },
     "execution_count": 121,
     "metadata": {},
     "output_type": "execute_result"
    }
   ],
   "source": [
    "s1ar"
   ]
  },
  {
   "cell_type": "code",
   "execution_count": null,
   "metadata": {},
   "outputs": [],
   "source": []
  }
 ],
 "metadata": {
  "kernelspec": {
   "display_name": "Python 3",
   "language": "python",
   "name": "python3"
  },
  "language_info": {
   "codemirror_mode": {
    "name": "ipython",
    "version": 3
   },
   "file_extension": ".py",
   "mimetype": "text/x-python",
   "name": "python",
   "nbconvert_exporter": "python",
   "pygments_lexer": "ipython3",
   "version": "3.7.2"
  }
 },
 "nbformat": 4,
 "nbformat_minor": 2
}
